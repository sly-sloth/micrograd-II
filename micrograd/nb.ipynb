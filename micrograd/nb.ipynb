{
 "cells": [
  {
   "cell_type": "code",
   "execution_count": 1,
   "id": "2147facd",
   "metadata": {},
   "outputs": [],
   "source": [
    "import math\n",
    "import numpy as np\n",
    "import matplotlib.pyplot as plt \n",
    "%matplotlib inline"
   ]
  },
  {
   "cell_type": "code",
   "execution_count": 2,
   "id": "ddff54c0",
   "metadata": {},
   "outputs": [],
   "source": [
    "def f(x):\n",
    "    return 3*x**2 - 2*x + 1"
   ]
  },
  {
   "cell_type": "code",
   "execution_count": 3,
   "id": "678508d0",
   "metadata": {},
   "outputs": [
    {
     "data": {
      "text/plain": [
       "22.0"
      ]
     },
     "execution_count": 3,
     "metadata": {},
     "output_type": "execute_result"
    }
   ],
   "source": [
    "f(3.0)"
   ]
  },
  {
   "cell_type": "code",
   "execution_count": 4,
   "id": "fc9d5ebb",
   "metadata": {},
   "outputs": [
    {
     "data": {
      "text/plain": [
       "[<matplotlib.lines.Line2D at 0x11596a990>]"
      ]
     },
     "execution_count": 4,
     "metadata": {},
     "output_type": "execute_result"
    },
    {
     "data": {
      "image/png": "[encoded data removed]",
      "text/plain": [
       "<Figure size 640x480 with 1 Axes>"
      ]
     },
     "metadata": {},
     "output_type": "display_data"
    }
   ],
   "source": [
    "xs = np.arange(-5, 5, 0.25)\n",
    "ys = f(xs)\n",
    "plt.plot(xs, ys)"
   ]
  },
  {
   "cell_type": "code",
   "execution_count": 5,
   "id": "02953ac7",
   "metadata": {},
   "outputs": [
    {
     "data": {
      "text/plain": [
       "-19.999970000128542"
      ]
     },
     "execution_count": 5,
     "metadata": {},
     "output_type": "execute_result"
    }
   ],
   "source": [
    "h = 0.00001\n",
    "x = -3.0\n",
    "(f(x + h) - f(x)) / h"
   ]
  },
  {
   "cell_type": "code",
   "execution_count": 6,
   "id": "3110ed52",
   "metadata": {},
   "outputs": [
    {
     "name": "stdout",
     "output_type": "stream",
     "text": [
      "4.0\n"
     ]
    }
   ],
   "source": [
    "a = 2. \n",
    "b = -3.\n",
    "c = 10.\n",
    "d = a*b + c\n",
    "print(d)"
   ]
  },
  {
   "cell_type": "code",
   "execution_count": 7,
   "id": "cc1d6a70",
   "metadata": {},
   "outputs": [
    {
     "name": "stdout",
     "output_type": "stream",
     "text": [
      "3.9999699999999994\n"
     ]
    }
   ],
   "source": [
    "d1 = a*b + c\n",
    "a += h\n",
    "d2 = a*b + c\n",
    "print(d2)"
   ]
  },
  {
   "cell_type": "code",
   "execution_count": 8,
   "id": "9b302416",
   "metadata": {},
   "outputs": [
    {
     "data": {
      "text/plain": [
       "-3.000000000064062"
      ]
     },
     "execution_count": 8,
     "metadata": {},
     "output_type": "execute_result"
    }
   ],
   "source": [
    "(d2 - d1) / h"
   ]
  },
  {
   "cell_type": "code",
   "execution_count": null,
   "id": "9d2c009d",
   "metadata": {},
   "outputs": [],
   "source": [
    "a\n",
    "\n",
    "a + b \n",
    "a * b"
   ]
  },
  {
   "cell_type": "code",
   "execution_count": 35,
   "id": "8a5e8e8b",
   "metadata": {},
   "outputs": [],
   "source": [
    "class Value:\n",
    "    def __init__(self, data, _children=(), _op='', label=''):\n",
    "        self.data = data\n",
    "        self.grad = 0.0\n",
    "        self._prev = set(_children)\n",
    "        self._op = _op\n",
    "        self.label = label\n",
    "\n",
    "    def __repr__(self):\n",
    "        return f\"Value(data={self.data})\"\n",
    "    \n",
    "    def __add__(self, other):\n",
    "        out = Value(self.data + other.data, (self, other), '+')\n",
    "        return out\n",
    "    \n",
    "    # def __sub__(self, other):\n",
    "    #     out = Value(self.data.__add__(-1 * other.data), (self, other))\n",
    "    #     return out\n",
    "    \n",
    "    def __mul__(self, other):\n",
    "        out = Value(self.data * other.data, (self, other), '*')\n",
    "        return out"
   ]
  },
  {
   "cell_type": "code",
   "execution_count": 40,
   "id": "304d1d71",
   "metadata": {},
   "outputs": [],
   "source": [
    "from graphviz import Digraph\n",
    "\n",
    "def trace(root):\n",
    "    # Builds a set of all nodes and edges in the graph\n",
    "    nodes, edges = set(), set()\n",
    "    \n",
    "    def build(v):\n",
    "        if v not in nodes:\n",
    "            nodes.add(v)\n",
    "            for child in v._prev:\n",
    "                edges.add((child, v))\n",
    "                build(child)\n",
    "    \n",
    "    build(root)\n",
    "    return nodes, edges\n",
    "\n",
    "def draw_dot(root):\n",
    "    # Creates a graphviz visualization of the computational graph\n",
    "    dot = Digraph(format='svg', graph_attr={'rankdir': 'LR'})\n",
    "    \n",
    "    nodes, edges = trace(root)\n",
    "    \n",
    "    # Add nodes to graph\n",
    "    for n in nodes:\n",
    "        uid = str(id(n))\n",
    "        # Node label: data value | operation\n",
    "        label = f\"{n.label} | data: {n.data:.4f} | grad: {n.grad:.4f}\"\n",
    "        dot.node(name=uid, label=label, shape='record')\n",
    "        \n",
    "        if n._op:\n",
    "            # Add operation label with circle shape\n",
    "            dot.node(name=uid + n._op, label=n._op, shape='circle')\n",
    "            dot.edge(uid + n._op, uid)\n",
    "    \n",
    "    # Add edges to graph\n",
    "    for n1, n2 in edges:\n",
    "        dot.edge(str(id(n1)), str(id(n2)) + n2._op)\n",
    "    \n",
    "    return dot"
   ]
  },
  {
   "cell_type": "code",
   "execution_count": 37,
   "id": "3230a771",
   "metadata": {},
   "outputs": [],
   "source": [
    "a = Value(2.0, label='a')\n",
    "b = Value(-3.0, label='b')\n",
    "c = Value(10., label='c')\n",
    "e = a*b; e.label = 'e'\n",
    "d = e + c; d.label = 'd'\n",
    "# print(d)\n",
    "f = Value(-2., label='f')\n",
    "L = d * f; L.label = 'L'"
   ]
  },
  {
   "cell_type": "code",
   "execution_count": 38,
   "id": "a453ef07",
   "metadata": {},
   "outputs": [
    {
     "data": {
      "image/svg+xml": [
       "<?xml version=\"1.0\" encoding=\"UTF-8\" standalone=\"no\"?>\n",
       "<!DOCTYPE svg PUBLIC \"-//W3C//DTD SVG 1.1//EN\"\n",
       " \"http://www.w3.org/Graphics/SVG/1.1/DTD/svg11.dtd\">\n",
       "<!-- Generated by graphviz version 12.2.1 (20241206.2353)\n",
       " -->\n",
       "<!-- Pages: 1 -->\n",
       "<svg width=\"686pt\" height=\"268pt\"\n",
       " viewBox=\"0.00 0.00 686.25 267.50\" xmlns=\"http://www.w3.org/2000/svg\" xmlns:xlink=\"http://www.w3.org/1999/xlink\">\n",
       "<g id=\"graph0\" class=\"graph\" transform=\"scale(1 1) rotate(0) translate(4 263.5)\">\n",
       "<polygon fill=\"white\" stroke=\"none\" points=\"-4,4 -4,-263.5 682.25,-263.5 682.25,4 -4,4\"/>\n",
       "<!-- 4657268752 -->\n",
       "<g id=\"node1\" class=\"node\">\n",
       "<title>4657268752</title>\n",
       "<polygon fill=\"none\" stroke=\"black\" points=\"395.75,-92.5 395.75,-166 480.75,-166 480.75,-92.5 395.75,-92.5\"/>\n",
       "<text text-anchor=\"middle\" x=\"438.25\" y=\"-148.7\" font-family=\"Times,serif\" font-size=\"14.00\">d</text>\n",
       "<polyline fill=\"none\" stroke=\"black\" points=\"395.75,-141.5 480.75,-141.5\"/>\n",
       "<text text-anchor=\"middle\" x=\"438.25\" y=\"-124.2\" font-family=\"Times,serif\" font-size=\"14.00\">data: 4.0000</text>\n",
       "<polyline fill=\"none\" stroke=\"black\" points=\"395.75,-117 480.75,-117\"/>\n",
       "<text text-anchor=\"middle\" x=\"438.25\" y=\"-99.7\" font-family=\"Times,serif\" font-size=\"14.00\">grad: 0.0000</text>\n",
       "</g>\n",
       "<!-- 4658382288* -->\n",
       "<g id=\"node10\" class=\"node\">\n",
       "<title>4658382288*</title>\n",
       "<ellipse fill=\"none\" stroke=\"black\" cx=\"536.25\" cy=\"-175.25\" rx=\"18\" ry=\"18\"/>\n",
       "<text text-anchor=\"middle\" x=\"536.25\" y=\"-170.2\" font-family=\"Times,serif\" font-size=\"14.00\">*</text>\n",
       "</g>\n",
       "<!-- 4657268752&#45;&gt;4658382288* -->\n",
       "<g id=\"edge8\" class=\"edge\">\n",
       "<title>4657268752&#45;&gt;4658382288*</title>\n",
       "<path fill=\"none\" stroke=\"black\" d=\"M481.08,-149.29C490.74,-153.92 500.74,-158.72 509.48,-162.9\"/>\n",
       "<polygon fill=\"black\" stroke=\"black\" points=\"507.86,-166.01 518.39,-167.17 510.89,-159.7 507.86,-166.01\"/>\n",
       "</g>\n",
       "<!-- 4657268752+ -->\n",
       "<g id=\"node2\" class=\"node\">\n",
       "<title>4657268752+</title>\n",
       "<ellipse fill=\"none\" stroke=\"black\" cx=\"340.25\" cy=\"-129.25\" rx=\"18\" ry=\"18\"/>\n",
       "<text text-anchor=\"middle\" x=\"340.25\" y=\"-124.2\" font-family=\"Times,serif\" font-size=\"14.00\">+</text>\n",
       "</g>\n",
       "<!-- 4657268752+&#45;&gt;4657268752 -->\n",
       "<g id=\"edge1\" class=\"edge\">\n",
       "<title>4657268752+&#45;&gt;4657268752</title>\n",
       "<path fill=\"none\" stroke=\"black\" d=\"M358.41,-129.25C365.77,-129.25 374.81,-129.25 384.11,-129.25\"/>\n",
       "<polygon fill=\"black\" stroke=\"black\" points=\"383.98,-132.75 393.98,-129.25 383.98,-125.75 383.98,-132.75\"/>\n",
       "</g>\n",
       "<!-- 4627842576 -->\n",
       "<g id=\"node3\" class=\"node\">\n",
       "<title>4627842576</title>\n",
       "<polygon fill=\"none\" stroke=\"black\" points=\"196,-139.5 196,-213 286.25,-213 286.25,-139.5 196,-139.5\"/>\n",
       "<text text-anchor=\"middle\" x=\"241.12\" y=\"-195.7\" font-family=\"Times,serif\" font-size=\"14.00\">c</text>\n",
       "<polyline fill=\"none\" stroke=\"black\" points=\"196,-188.5 286.25,-188.5\"/>\n",
       "<text text-anchor=\"middle\" x=\"241.12\" y=\"-171.2\" font-family=\"Times,serif\" font-size=\"14.00\">data: 10.0000</text>\n",
       "<polyline fill=\"none\" stroke=\"black\" points=\"196,-164 286.25,-164\"/>\n",
       "<text text-anchor=\"middle\" x=\"241.12\" y=\"-146.7\" font-family=\"Times,serif\" font-size=\"14.00\">grad: 0.0000</text>\n",
       "</g>\n",
       "<!-- 4627842576&#45;&gt;4657268752+ -->\n",
       "<g id=\"edge4\" class=\"edge\">\n",
       "<title>4627842576&#45;&gt;4657268752+</title>\n",
       "<path fill=\"none\" stroke=\"black\" d=\"M286.71,-154.68C295.76,-150.3 305,-145.83 313.15,-141.88\"/>\n",
       "<polygon fill=\"black\" stroke=\"black\" points=\"314.64,-145.05 322.11,-137.54 311.59,-138.75 314.64,-145.05\"/>\n",
       "</g>\n",
       "<!-- 4658381904 -->\n",
       "<g id=\"node4\" class=\"node\">\n",
       "<title>4658381904</title>\n",
       "<polygon fill=\"none\" stroke=\"black\" points=\"394.25,-185.5 394.25,-259 482.25,-259 482.25,-185.5 394.25,-185.5\"/>\n",
       "<text text-anchor=\"middle\" x=\"438.25\" y=\"-241.7\" font-family=\"Times,serif\" font-size=\"14.00\">f</text>\n",
       "<polyline fill=\"none\" stroke=\"black\" points=\"394.25,-234.5 482.25,-234.5\"/>\n",
       "<text text-anchor=\"middle\" x=\"438.25\" y=\"-217.2\" font-family=\"Times,serif\" font-size=\"14.00\">data: &#45;2.0000</text>\n",
       "<polyline fill=\"none\" stroke=\"black\" points=\"394.25,-210 482.25,-210\"/>\n",
       "<text text-anchor=\"middle\" x=\"438.25\" y=\"-192.7\" font-family=\"Times,serif\" font-size=\"14.00\">grad: 0.0000</text>\n",
       "</g>\n",
       "<!-- 4658381904&#45;&gt;4658382288* -->\n",
       "<g id=\"edge9\" class=\"edge\">\n",
       "<title>4658381904&#45;&gt;4658382288*</title>\n",
       "<path fill=\"none\" stroke=\"black\" d=\"M482.48,-201.09C491.75,-196.55 501.26,-191.89 509.61,-187.8\"/>\n",
       "<polygon fill=\"black\" stroke=\"black\" points=\"511,-191.02 518.44,-183.48 507.92,-184.73 511,-191.02\"/>\n",
       "</g>\n",
       "<!-- 4663292560 -->\n",
       "<g id=\"node5\" class=\"node\">\n",
       "<title>4663292560</title>\n",
       "<polygon fill=\"none\" stroke=\"black\" points=\"1.5,-93.5 1.5,-167 86.5,-167 86.5,-93.5 1.5,-93.5\"/>\n",
       "<text text-anchor=\"middle\" x=\"44\" y=\"-149.7\" font-family=\"Times,serif\" font-size=\"14.00\">a</text>\n",
       "<polyline fill=\"none\" stroke=\"black\" points=\"1.5,-142.5 86.5,-142.5\"/>\n",
       "<text text-anchor=\"middle\" x=\"44\" y=\"-125.2\" font-family=\"Times,serif\" font-size=\"14.00\">data: 2.0000</text>\n",
       "<polyline fill=\"none\" stroke=\"black\" points=\"1.5,-118 86.5,-118\"/>\n",
       "<text text-anchor=\"middle\" x=\"44\" y=\"-100.7\" font-family=\"Times,serif\" font-size=\"14.00\">grad: 0.0000</text>\n",
       "</g>\n",
       "<!-- 4657489104* -->\n",
       "<g id=\"node7\" class=\"node\">\n",
       "<title>4657489104*</title>\n",
       "<ellipse fill=\"none\" stroke=\"black\" cx=\"142\" cy=\"-83.25\" rx=\"18\" ry=\"18\"/>\n",
       "<text text-anchor=\"middle\" x=\"142\" y=\"-78.2\" font-family=\"Times,serif\" font-size=\"14.00\">*</text>\n",
       "</g>\n",
       "<!-- 4663292560&#45;&gt;4657489104* -->\n",
       "<g id=\"edge5\" class=\"edge\">\n",
       "<title>4663292560&#45;&gt;4657489104*</title>\n",
       "<path fill=\"none\" stroke=\"black\" d=\"M86.83,-109.77C96.49,-105.04 106.49,-100.14 115.23,-95.86\"/>\n",
       "<polygon fill=\"black\" stroke=\"black\" points=\"116.71,-99.04 124.15,-91.5 113.63,-92.75 116.71,-99.04\"/>\n",
       "</g>\n",
       "<!-- 4657489104 -->\n",
       "<g id=\"node6\" class=\"node\">\n",
       "<title>4657489104</title>\n",
       "<polygon fill=\"none\" stroke=\"black\" points=\"197.12,-46.5 197.12,-120 285.12,-120 285.12,-46.5 197.12,-46.5\"/>\n",
       "<text text-anchor=\"middle\" x=\"241.12\" y=\"-102.7\" font-family=\"Times,serif\" font-size=\"14.00\">e</text>\n",
       "<polyline fill=\"none\" stroke=\"black\" points=\"197.12,-95.5 285.12,-95.5\"/>\n",
       "<text text-anchor=\"middle\" x=\"241.12\" y=\"-78.2\" font-family=\"Times,serif\" font-size=\"14.00\">data: &#45;6.0000</text>\n",
       "<polyline fill=\"none\" stroke=\"black\" points=\"197.12,-71 285.12,-71\"/>\n",
       "<text text-anchor=\"middle\" x=\"241.12\" y=\"-53.7\" font-family=\"Times,serif\" font-size=\"14.00\">grad: 0.0000</text>\n",
       "</g>\n",
       "<!-- 4657489104&#45;&gt;4657268752+ -->\n",
       "<g id=\"edge7\" class=\"edge\">\n",
       "<title>4657489104&#45;&gt;4657268752+</title>\n",
       "<path fill=\"none\" stroke=\"black\" d=\"M285.57,-103.83C294.99,-108.29 304.66,-112.87 313.15,-116.89\"/>\n",
       "<polygon fill=\"black\" stroke=\"black\" points=\"311.62,-120.04 322.15,-121.15 314.61,-113.71 311.62,-120.04\"/>\n",
       "</g>\n",
       "<!-- 4657489104*&#45;&gt;4657489104 -->\n",
       "<g id=\"edge2\" class=\"edge\">\n",
       "<title>4657489104*&#45;&gt;4657489104</title>\n",
       "<path fill=\"none\" stroke=\"black\" d=\"M160.36,-83.25C167.5,-83.25 176.19,-83.25 185.19,-83.25\"/>\n",
       "<polygon fill=\"black\" stroke=\"black\" points=\"185.12,-86.75 195.12,-83.25 185.12,-79.75 185.12,-86.75\"/>\n",
       "</g>\n",
       "<!-- 4627706704 -->\n",
       "<g id=\"node8\" class=\"node\">\n",
       "<title>4627706704</title>\n",
       "<polygon fill=\"none\" stroke=\"black\" points=\"0,-0.5 0,-74 88,-74 88,-0.5 0,-0.5\"/>\n",
       "<text text-anchor=\"middle\" x=\"44\" y=\"-56.7\" font-family=\"Times,serif\" font-size=\"14.00\">b</text>\n",
       "<polyline fill=\"none\" stroke=\"black\" points=\"0,-49.5 88,-49.5\"/>\n",
       "<text text-anchor=\"middle\" x=\"44\" y=\"-32.2\" font-family=\"Times,serif\" font-size=\"14.00\">data: &#45;3.0000</text>\n",
       "<polyline fill=\"none\" stroke=\"black\" points=\"0,-25 88,-25\"/>\n",
       "<text text-anchor=\"middle\" x=\"44\" y=\"-7.7\" font-family=\"Times,serif\" font-size=\"14.00\">grad: 0.0000</text>\n",
       "</g>\n",
       "<!-- 4627706704&#45;&gt;4657489104* -->\n",
       "<g id=\"edge6\" class=\"edge\">\n",
       "<title>4627706704&#45;&gt;4657489104*</title>\n",
       "<path fill=\"none\" stroke=\"black\" d=\"M88.23,-57.96C97.5,-62.41 107.01,-66.96 115.36,-70.97\"/>\n",
       "<polygon fill=\"black\" stroke=\"black\" points=\"113.66,-74.03 124.19,-75.19 116.68,-67.72 113.66,-74.03\"/>\n",
       "</g>\n",
       "<!-- 4658382288 -->\n",
       "<g id=\"node9\" class=\"node\">\n",
       "<title>4658382288</title>\n",
       "<polygon fill=\"none\" stroke=\"black\" points=\"590.25,-138.5 590.25,-212 678.25,-212 678.25,-138.5 590.25,-138.5\"/>\n",
       "<text text-anchor=\"middle\" x=\"634.25\" y=\"-194.7\" font-family=\"Times,serif\" font-size=\"14.00\">L</text>\n",
       "<polyline fill=\"none\" stroke=\"black\" points=\"590.25,-187.5 678.25,-187.5\"/>\n",
       "<text text-anchor=\"middle\" x=\"634.25\" y=\"-170.2\" font-family=\"Times,serif\" font-size=\"14.00\">data: &#45;8.0000</text>\n",
       "<polyline fill=\"none\" stroke=\"black\" points=\"590.25,-163 678.25,-163\"/>\n",
       "<text text-anchor=\"middle\" x=\"634.25\" y=\"-145.7\" font-family=\"Times,serif\" font-size=\"14.00\">grad: 0.0000</text>\n",
       "</g>\n",
       "<!-- 4658382288*&#45;&gt;4658382288 -->\n",
       "<g id=\"edge3\" class=\"edge\">\n",
       "<title>4658382288*&#45;&gt;4658382288</title>\n",
       "<path fill=\"none\" stroke=\"black\" d=\"M554.41,-175.25C561.31,-175.25 569.69,-175.25 578.37,-175.25\"/>\n",
       "<polygon fill=\"black\" stroke=\"black\" points=\"578.34,-178.75 588.34,-175.25 578.34,-171.75 578.34,-178.75\"/>\n",
       "</g>\n",
       "</g>\n",
       "</svg>\n"
      ],
      "text/plain": [
       "<graphviz.graphs.Digraph at 0x115a83b90>"
      ]
     },
     "execution_count": 38,
     "metadata": {},
     "output_type": "execute_result"
    }
   ],
   "source": [
    "# Visualize the computational graph for d\n",
    "draw_dot(L)"
   ]
  },
  {
   "cell_type": "code",
   "execution_count": null,
   "id": "e668e7c6",
   "metadata": {},
   "outputs": [],
   "source": []
  },
  {
   "cell_type": "code",
   "execution_count": null,
   "id": "69fb9585",
   "metadata": {},
   "outputs": [],
   "source": []
  }
 ],
 "metadata": {
  "kernelspec": {
   "display_name": ".venv",
   "language": "python",
   "name": "python3"
  },
  "language_info": {
   "codemirror_mode": {
    "name": "ipython",
    "version": 3
   },
   "file_extension": ".py",
   "mimetype": "text/x-python",
   "name": "python",
   "nbconvert_exporter": "python",
   "pygments_lexer": "ipython3",
   "version": "3.11.9"
  }
 },
 "nbformat": 4,
 "nbformat_minor": 5
}
