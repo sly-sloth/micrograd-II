{
 "cells": [
  {
   "cell_type": "code",
   "execution_count": 34,
   "id": "e2c09139",
   "metadata": {},
   "outputs": [],
   "source": [
    "from micrograd_engine import *"
   ]
  },
  {
   "cell_type": "code",
   "execution_count": 35,
   "id": "ea1ec3b1",
   "metadata": {},
   "outputs": [],
   "source": [
    "import matplotlib.pyplot as plt"
   ]
  },
  {
   "cell_type": "code",
   "execution_count": 36,
   "id": "6d1d89a2",
   "metadata": {},
   "outputs": [],
   "source": [
    "optimizer = Optimizer()"
   ]
  },
  {
   "cell_type": "code",
   "execution_count": 37,
   "id": "f7310a24",
   "metadata": {},
   "outputs": [],
   "source": [
    "import torch\n",
    "from torch import nn"
   ]
  },
  {
   "cell_type": "code",
   "execution_count": 38,
   "id": "78c97290",
   "metadata": {},
   "outputs": [],
   "source": [
    "model = nn.Sequential(\n",
    "    nn.Linear(1, 10),\n",
    "    nn.Linear(10, 1)\n",
    ")"
   ]
  },
  {
   "cell_type": "code",
   "execution_count": 39,
   "id": "a206f21e",
   "metadata": {},
   "outputs": [],
   "source": [
    "optimizer = torch.optim.Adam(params=model.parameters(), lr=0.01)"
   ]
  },
  {
   "cell_type": "code",
   "execution_count": 40,
   "id": "eb88307d",
   "metadata": {},
   "outputs": [
    {
     "data": {
      "text/plain": [
       "tensor([[-0.3980,  1.0043,  1.5644,  0.3652,  0.8555]])"
      ]
     },
     "execution_count": 40,
     "metadata": {},
     "output_type": "execute_result"
    }
   ],
   "source": [
    "x = torch.randn(1, 5)\n",
    "x"
   ]
  },
  {
   "cell_type": "code",
   "execution_count": 41,
   "id": "c806a487",
   "metadata": {},
   "outputs": [
    {
     "data": {
      "text/plain": [
       "tensor([2])"
      ]
     },
     "execution_count": 41,
     "metadata": {},
     "output_type": "execute_result"
    }
   ],
   "source": [
    "torch.softmax(x, dim=1).argmax(dim=1)"
   ]
  },
  {
   "cell_type": "code",
   "execution_count": 42,
   "id": "c94afec7",
   "metadata": {},
   "outputs": [],
   "source": [
    "X = list(range(50))\n",
    "y = [1 if i % 2 == 0 else 0 for i in X]"
   ]
  },
  {
   "cell_type": "code",
   "execution_count": 43,
   "id": "0b7addfa",
   "metadata": {},
   "outputs": [
    {
     "data": {
      "text/plain": [
       "<matplotlib.collections.PathCollection at 0x1dcec975a90>"
      ]
     },
     "execution_count": 43,
     "metadata": {},
     "output_type": "execute_result"
    },
    {
     "data": {
      "image/png": "[encoded data removed]",
      "text/plain": [
       "<Figure size 640x480 with 1 Axes>"
      ]
     },
     "metadata": {},
     "output_type": "display_data"
    }
   ],
   "source": [
    "plt.scatter(X, y)"
   ]
  },
  {
   "cell_type": "code",
   "execution_count": 44,
   "id": "dae766ba",
   "metadata": {},
   "outputs": [
    {
     "data": {
      "text/plain": [
       "Value(data=0, grad=0.0)"
      ]
     },
     "execution_count": 44,
     "metadata": {},
     "output_type": "execute_result"
    }
   ],
   "source": [
    "X = [Value(i) for i in X]\n",
    "X[0]"
   ]
  },
  {
   "cell_type": "code",
   "execution_count": 45,
   "id": "5a91c771",
   "metadata": {},
   "outputs": [
    {
     "data": {
      "text/plain": [
       "Value(data=1, grad=0.0)"
      ]
     },
     "execution_count": 45,
     "metadata": {},
     "output_type": "execute_result"
    }
   ],
   "source": [
    "y = [Value(i) for i in y]\n",
    "y[6]"
   ]
  },
  {
   "cell_type": "code",
   "execution_count": 46,
   "id": "51283664",
   "metadata": {},
   "outputs": [],
   "source": [
    "model = MLP()\n",
    "model.add_layer(1, 8)\n",
    "model.add_activation_layer(ActivationLayer(\"relu\"))\n",
    "model.add_layer(8, 2)"
   ]
  },
  {
   "cell_type": "code",
   "execution_count": 47,
   "id": "2eadd29b",
   "metadata": {},
   "outputs": [
    {
     "data": {
      "text/plain": [
       "[Value(data=0.45627619818572734, grad=0.0),\n",
       " Value(data=0.0731075146393062, grad=0.0)]"
      ]
     },
     "execution_count": 47,
     "metadata": {},
     "output_type": "execute_result"
    }
   ],
   "source": [
    "model([X[0]])"
   ]
  },
  {
   "cell_type": "code",
   "execution_count": 48,
   "id": "911ba603",
   "metadata": {},
   "outputs": [],
   "source": [
    "loss_fn = CrossEntropyLoss\n",
    "optimizer = SGD(model, 0.01)"
   ]
  },
  {
   "cell_type": "code",
   "execution_count": 49,
   "metadata": {},
   "outputs": [
    {
     "name": "stdout",
     "output_type": "stream",
     "text": [
      "Value(data=22.510202973889683, grad=1.0)\n",
      "Value(data=22.510202973889683, grad=1.0)\n",
      "Value(data=22.510202973889683, grad=1.0)\n",
      "Value(data=22.510202973889683, grad=1.0)\n",
      "Value(data=22.510202973889683, grad=1.0)\n",
      "Value(data=22.510202973889683, grad=1.0)\n",
      "Value(data=22.510202973889683, grad=1.0)\n",
      "Value(data=22.510202973889683, grad=1.0)\n",
      "Value(data=22.510202973889683, grad=1.0)\n",
      "Value(data=22.510202973889683, grad=1.0)\n",
      "Value(data=22.510202973889683, grad=1.0)\n",
      "Value(data=22.510202973889683, grad=1.0)\n",
      "Value(data=22.510202973889683, grad=1.0)\n",
      "Value(data=22.510202973889683, grad=1.0)\n",
      "Value(data=22.510202973889683, grad=1.0)\n",
      "Value(data=22.510202973889683, grad=1.0)\n",
      "Value(data=22.510202973889683, grad=1.0)\n",
      "Value(data=22.510202973889683, grad=1.0)\n",
      "Value(data=22.510202973889683, grad=1.0)\n",
      "Value(data=22.510202973889683, grad=1.0)\n",
      "Value(data=22.510202973889683, grad=1.0)\n",
      "Value(data=22.510202973889683, grad=1.0)\n",
      "Value(data=22.510202973889683, grad=1.0)\n",
      "Value(data=22.510202973889683, grad=1.0)\n",
      "Value(data=22.510202973889683, grad=1.0)\n",
      "Value(data=22.510202973889683, grad=1.0)\n",
      "Value(data=22.510202973889683, grad=1.0)\n",
      "Value(data=22.510202973889683, grad=1.0)\n",
      "Value(data=22.510202973889683, grad=1.0)\n",
      "Value(data=22.510202973889683, grad=1.0)\n",
      "Value(data=22.510202973889683, grad=1.0)\n",
      "Value(data=22.510202973889683, grad=1.0)\n",
      "Value(data=22.510202973889683, grad=1.0)\n",
      "Value(data=22.510202973889683, grad=1.0)\n",
      "Value(data=22.510202973889683, grad=1.0)\n",
      "Value(data=22.510202973889683, grad=1.0)\n",
      "Value(data=22.510202973889683, grad=1.0)\n",
      "Value(data=22.510202973889683, grad=1.0)\n",
      "Value(data=22.510202973889683, grad=1.0)\n",
      "Value(data=22.510202973889683, grad=1.0)\n",
      "Value(data=22.510202973889683, grad=1.0)\n",
      "Value(data=22.510202973889683, grad=1.0)\n",
      "Value(data=22.510202973889683, grad=1.0)\n",
      "Value(data=22.510202973889683, grad=1.0)\n",
      "Value(data=22.510202973889683, grad=1.0)\n",
      "Value(data=22.510202973889683, grad=1.0)\n",
      "Value(data=22.510202973889683, grad=1.0)\n",
      "Value(data=22.510202973889683, grad=1.0)\n",
      "Value(data=22.510202973889683, grad=1.0)\n",
      "Value(data=22.510202973889683, grad=1.0)\n",
      "Value(data=22.510202973889683, grad=1.0)\n",
      "Value(data=22.510202973889683, grad=1.0)\n",
      "Value(data=22.510202973889683, grad=1.0)\n",
      "Value(data=22.510202973889683, grad=1.0)\n",
      "Value(data=22.510202973889683, grad=1.0)\n",
      "Value(data=22.510202973889683, grad=1.0)\n",
      "Value(data=22.510202973889683, grad=1.0)\n",
      "Value(data=22.510202973889683, grad=1.0)\n",
      "Value(data=22.510202973889683, grad=1.0)\n",
      "Value(data=22.510202973889683, grad=1.0)\n",
      "Value(data=22.510202973889683, grad=1.0)\n",
      "Value(data=22.510202973889683, grad=1.0)\n",
      "Value(data=22.510202973889683, grad=1.0)\n",
      "Value(data=22.510202973889683, grad=1.0)\n",
      "Value(data=22.510202973889683, grad=1.0)\n",
      "Value(data=22.510202973889683, grad=1.0)\n",
      "Value(data=22.510202973889683, grad=1.0)\n",
      "Value(data=22.510202973889683, grad=1.0)\n",
      "Value(data=22.510202973889683, grad=1.0)\n",
      "Value(data=22.510202973889683, grad=1.0)\n",
      "Value(data=22.510202973889683, grad=1.0)\n",
      "Value(data=22.510202973889683, grad=1.0)\n",
      "Value(data=22.510202973889683, grad=1.0)\n",
      "Value(data=22.510202973889683, grad=1.0)\n",
      "Value(data=22.510202973889683, grad=1.0)\n",
      "Value(data=22.510202973889683, grad=1.0)\n",
      "Value(data=22.510202973889683, grad=1.0)\n",
      "Value(data=22.510202973889683, grad=1.0)\n",
      "Value(data=22.510202973889683, grad=1.0)\n",
      "Value(data=22.510202973889683, grad=1.0)\n",
      "Value(data=22.510202973889683, grad=1.0)\n",
      "Value(data=22.510202973889683, grad=1.0)\n",
      "Value(data=22.510202973889683, grad=1.0)\n",
      "Value(data=22.510202973889683, grad=1.0)\n",
      "Value(data=22.510202973889683, grad=1.0)\n",
      "Value(data=22.510202973889683, grad=1.0)\n",
      "Value(data=22.510202973889683, grad=1.0)\n",
      "Value(data=22.510202973889683, grad=1.0)\n",
      "Value(data=22.510202973889683, grad=1.0)\n",
      "Value(data=22.510202973889683, grad=1.0)\n",
      "Value(data=22.510202973889683, grad=1.0)\n",
      "Value(data=22.510202973889683, grad=1.0)\n",
      "Value(data=22.510202973889683, grad=1.0)\n",
      "Value(data=22.510202973889683, grad=1.0)\n",
      "Value(data=22.510202973889683, grad=1.0)\n",
      "Value(data=22.510202973889683, grad=1.0)\n",
      "Value(data=22.510202973889683, grad=1.0)\n",
      "Value(data=22.510202973889683, grad=1.0)\n",
      "Value(data=22.510202973889683, grad=1.0)\n",
      "Value(data=22.510202973889683, grad=1.0)\n"
     ]
    }
   ],
   "source": [
    "epochs = 100\n",
    "\n",
    "for epoch in range(epochs):\n",
    "    y_pred = [model([i]) for i in X]\n",
    "    # print(y_pred[:5])\n",
    "    # print(y[:5])\n",
    "    # print(len(y_pred)); print(len(y))\n",
    "    # for i in y_pred:\n",
    "    #     print(i)\n",
    "    # print(y_pred)\n",
    "    loss = loss_fn(y_pred, y)\n",
    "    \n",
    "    optimizer.zero_grad()\n",
    "    loss.backward()\n",
    "    optimizer.step()\n",
    "\n",
    "    print(loss)"
   ]
  },
  {
   "cell_type": "code",
   "execution_count": null,
   "metadata": {},
   "outputs": [],
   "source": []
  },
  {
   "cell_type": "code",
   "execution_count": null,
   "metadata": {},
   "outputs": [],
   "source": []
  }
 ],
 "metadata": {
  "kernelspec": {
   "display_name": ".venv",
   "language": "python",
   "name": "python3"
  },
  "language_info": {
   "codemirror_mode": {
    "name": "ipython",
    "version": 3
   },
   "file_extension": ".py",
   "mimetype": "text/x-python",
   "name": "python",
   "nbconvert_exporter": "python",
   "pygments_lexer": "ipython3",
   "version": "3.13.1"
  }
 },
 "nbformat": 4,
 "nbformat_minor": 5
}
